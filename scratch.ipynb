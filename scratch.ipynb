{
 "cells": [
  {
   "cell_type": "code",
   "execution_count": null,
   "metadata": {},
   "outputs": [],
   "source": [
    "import torch\n",
    "\n",
    "from nunchaku.pipelines import flux as nunchaku_flux"
   ]
  },
  {
   "cell_type": "code",
   "execution_count": null,
   "metadata": {},
   "outputs": [],
   "source": [
    "pipeline = nunchaku_flux.from_pretrained(\n",
    "    \"checkpoints/black-forest-labs/FLUX.1-schnell\",\n",
    "    torch_dtype=torch.bfloat16,\n",
    "    qmodel_path=\"checkpoints/svdquant-models/svdq-int4-flux.1-schnell.safetensors\",  # download from Huggingface\n",
    ").to(\"cuda\")"
   ]
  },
  {
   "cell_type": "code",
   "execution_count": null,
   "metadata": {},
   "outputs": [],
   "source": [
    "%matplotlib inline \n",
    "from matplotlib import pyplot as plt\n",
    "\n",
    "image = pipeline(\"A cat holding a sign that says hello world\", num_inference_steps=4, guidance_scale=0).images[0]\n",
    "# image.save(\"example.png\")\n",
    "\n",
    "plt.figure(figsize = (16, 16))\n",
    "plt.imshow(image, interpolation='nearest')\n",
    "plt.show()"
   ]
  }
 ],
 "metadata": {
  "kernelspec": {
   "display_name": "nunchaku",
   "language": "python",
   "name": "python3"
  },
  "language_info": {
   "codemirror_mode": {
    "name": "ipython",
    "version": 3
   },
   "file_extension": ".py",
   "mimetype": "text/x-python",
   "name": "python",
   "nbconvert_exporter": "python",
   "pygments_lexer": "ipython3",
   "version": "3.11.10"
  }
 },
 "nbformat": 4,
 "nbformat_minor": 2
}
